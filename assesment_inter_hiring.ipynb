{
  "nbformat": 4,
  "nbformat_minor": 0,
  "metadata": {
    "colab": {
      "provenance": []
    },
    "kernelspec": {
      "name": "python3",
      "display_name": "Python 3"
    },
    "language_info": {
      "name": "python"
    }
  },
  "cells": [
    {
      "cell_type": "code",
      "source": [
        "from google.colab import drive\n",
        "drive.mount('/content/drive')"
      ],
      "metadata": {
        "colab": {
          "base_uri": "https://localhost:8080/"
        },
        "id": "zzsY_huXb2Q1",
        "outputId": "363db547-c230-45ab-e9e4-31432ae34774"
      },
      "execution_count": 3,
      "outputs": [
        {
          "output_type": "stream",
          "name": "stdout",
          "text": [
            "Mounted at /content/drive\n"
          ]
        }
      ]
    },
    {
      "cell_type": "code",
      "execution_count": 177,
      "metadata": {
        "id": "I1frLukyZAqP"
      },
      "outputs": [],
      "source": [
        "import pandas as pd\n",
        "import matplotlib.pyplot as plt\n",
        "import numpy as np"
      ]
    },
    {
      "cell_type": "code",
      "source": [
        "df  = pd.read_excel(\"/content/drive/MyDrive/Applications_for_Machine_Learning_internship_edited.xlsx\")"
      ],
      "metadata": {
        "id": "fnYr48xKZLU-"
      },
      "execution_count": 260,
      "outputs": []
    },
    {
      "cell_type": "code",
      "source": [
        "df = df.drop(columns=[\"Name\",\"Stream\",\"Current Year Of Graduation\",\"Other skills\"])"
      ],
      "metadata": {
        "id": "HjZxN9J8cUe5"
      },
      "execution_count": 261,
      "outputs": []
    },
    {
      "cell_type": "code",
      "source": [
        "df.columns = [\"Python\",\"Machine_learning\",\"NLP\",\"Deep_learning\",\"availability\",\n",
        "              \"Degree\",'Performance_PG','Performance_UG','Performance_12','Performance_10']"
      ],
      "metadata": {
        "id": "iW2NNIsTdYPz"
      },
      "execution_count": 262,
      "outputs": []
    },
    {
      "cell_type": "code",
      "source": [
        "df.shape"
      ],
      "metadata": {
        "colab": {
          "base_uri": "https://localhost:8080/"
        },
        "id": "ESXgz64wcWK9",
        "outputId": "da7e5021-776b-4c48-8026-18af599d8f9e"
      },
      "execution_count": 263,
      "outputs": [
        {
          "output_type": "execute_result",
          "data": {
            "text/plain": [
              "(1136, 10)"
            ]
          },
          "metadata": {},
          "execution_count": 263
        }
      ]
    },
    {
      "cell_type": "code",
      "source": [
        "for i in range(df.shape[0]):\n",
        "  if (\"Yes\" in df[\"availability\"][i] or\n",
        "      \"yes\" in df[\"availability\"][i]):\n",
        "     df[\"availability\"][i] = 1\n",
        "  else:\n",
        "     df[\"availability\"][i] = 0"
      ],
      "metadata": {
        "colab": {
          "base_uri": "https://localhost:8080/"
        },
        "id": "TRFZWlYYelub",
        "outputId": "7642ba7f-4a7e-40f9-f209-65f39528d1bf"
      },
      "execution_count": 264,
      "outputs": [
        {
          "output_type": "stream",
          "name": "stderr",
          "text": [
            "<ipython-input-264-0e2bcc941190>:4: SettingWithCopyWarning: \n",
            "A value is trying to be set on a copy of a slice from a DataFrame\n",
            "\n",
            "See the caveats in the documentation: https://pandas.pydata.org/pandas-docs/stable/user_guide/indexing.html#returning-a-view-versus-a-copy\n",
            "  df[\"availability\"][i] = 1\n",
            "<ipython-input-264-0e2bcc941190>:6: SettingWithCopyWarning: \n",
            "A value is trying to be set on a copy of a slice from a DataFrame\n",
            "\n",
            "See the caveats in the documentation: https://pandas.pydata.org/pandas-docs/stable/user_guide/indexing.html#returning-a-view-versus-a-copy\n",
            "  df[\"availability\"][i] = 0\n"
          ]
        }
      ]
    },
    {
      "cell_type": "code",
      "source": [
        "#df"
      ],
      "metadata": {
        "id": "Go4QCSIYfbEg"
      },
      "execution_count": 265,
      "outputs": []
    },
    {
      "cell_type": "code",
      "source": [
        "df.info()"
      ],
      "metadata": {
        "colab": {
          "base_uri": "https://localhost:8080/"
        },
        "id": "jt032OhifNqi",
        "outputId": "171ba9fc-533d-4a32-e167-1aedf5829156"
      },
      "execution_count": 266,
      "outputs": [
        {
          "output_type": "stream",
          "name": "stdout",
          "text": [
            "<class 'pandas.core.frame.DataFrame'>\n",
            "RangeIndex: 1136 entries, 0 to 1135\n",
            "Data columns (total 10 columns):\n",
            " #   Column            Non-Null Count  Dtype \n",
            "---  ------            --------------  ----- \n",
            " 0   Python            1136 non-null   int64 \n",
            " 1   Machine_learning  1136 non-null   int64 \n",
            " 2   NLP               1136 non-null   int64 \n",
            " 3   Deep_learning     1136 non-null   int64 \n",
            " 4   availability      1136 non-null   object\n",
            " 5   Degree            1093 non-null   object\n",
            " 6   Performance_PG    184 non-null    object\n",
            " 7   Performance_UG    482 non-null    object\n",
            " 8   Performance_12    493 non-null    object\n",
            " 9   Performance_10    427 non-null    object\n",
            "dtypes: int64(4), object(6)\n",
            "memory usage: 88.9+ KB\n"
          ]
        }
      ]
    },
    {
      "cell_type": "code",
      "source": [],
      "metadata": {
        "id": "gpL4XdtjaK-F"
      },
      "execution_count": 266,
      "outputs": []
    },
    {
      "cell_type": "code",
      "source": [
        "df[\"Performance_10\"] = df[\"Performance_10\"].fillna(0)\n",
        "df[\"Performance_12\"] = df[\"Performance_12\"].fillna(0)\n",
        "df[\"Performance_UG\"] = df[\"Performance_UG\"].fillna(0)\n",
        "df[\"Performance_PG\"] = df[\"Performance_PG\"].fillna(0)\n",
        "#df[\"Other skills\"] = df[\"Other skills\"].fillna(0)\n",
        "df[\"Degree\"] = df[\"Degree\"].fillna(\"0\")"
      ],
      "metadata": {
        "id": "0HfTdY0JfQSa"
      },
      "execution_count": 267,
      "outputs": []
    },
    {
      "cell_type": "code",
      "source": [
        "df[\"Performance_10\"][3].index(\"/\")"
      ],
      "metadata": {
        "colab": {
          "base_uri": "https://localhost:8080/"
        },
        "id": "KpkgBuh1Moxz",
        "outputId": "bfed7c38-37d8-4724-f247-b0ca637aaa1a"
      },
      "execution_count": 268,
      "outputs": [
        {
          "output_type": "execute_result",
          "data": {
            "text/plain": [
              "5"
            ]
          },
          "metadata": {},
          "execution_count": 268
        }
      ]
    },
    {
      "cell_type": "code",
      "source": [
        "for i in range(df.shape[0]):\n",
        "  if(df[\"Performance_10\"][i]!=0):\n",
        "    k = df[\"Performance_10\"][i].index(\"/\")\n",
        "    df[\"Performance_10\"][i] = float(df[\"Performance_10\"][i][:k])\n",
        "  if(df[\"Performance_12\"][i]!=0):\n",
        "    l = df[\"Performance_12\"][i].index(\"/\")\n",
        "    df[\"Performance_12\"][i] = float(df[\"Performance_12\"][i][:l])\n",
        "  if(df[\"Performance_UG\"][i]!=0):\n",
        "    m = df[\"Performance_UG\"][i].index(\"/\")\n",
        "    df[\"Performance_UG\"][i] = float(df[\"Performance_UG\"][i][:m])\n",
        "  if(df[\"Performance_PG\"][i]!=0):\n",
        "    n = df[\"Performance_PG\"][i].index(\"/\")\n",
        "    df[\"Performance_PG\"][i] = float(df[\"Performance_PG\"][i][:n])\n"
      ],
      "metadata": {
        "colab": {
          "base_uri": "https://localhost:8080/"
        },
        "id": "kexFFMbqJ-Cb",
        "outputId": "2b11f55a-3b87-41a5-c061-0dda9a5d5a31"
      },
      "execution_count": 269,
      "outputs": [
        {
          "output_type": "stream",
          "name": "stderr",
          "text": [
            "<ipython-input-269-5dd085f842ca>:10: SettingWithCopyWarning: \n",
            "A value is trying to be set on a copy of a slice from a DataFrame\n",
            "\n",
            "See the caveats in the documentation: https://pandas.pydata.org/pandas-docs/stable/user_guide/indexing.html#returning-a-view-versus-a-copy\n",
            "  df[\"Performance_UG\"][i] = float(df[\"Performance_UG\"][i][:m])\n",
            "<ipython-input-269-5dd085f842ca>:4: SettingWithCopyWarning: \n",
            "A value is trying to be set on a copy of a slice from a DataFrame\n",
            "\n",
            "See the caveats in the documentation: https://pandas.pydata.org/pandas-docs/stable/user_guide/indexing.html#returning-a-view-versus-a-copy\n",
            "  df[\"Performance_10\"][i] = float(df[\"Performance_10\"][i][:k])\n",
            "<ipython-input-269-5dd085f842ca>:7: SettingWithCopyWarning: \n",
            "A value is trying to be set on a copy of a slice from a DataFrame\n",
            "\n",
            "See the caveats in the documentation: https://pandas.pydata.org/pandas-docs/stable/user_guide/indexing.html#returning-a-view-versus-a-copy\n",
            "  df[\"Performance_12\"][i] = float(df[\"Performance_12\"][i][:l])\n",
            "<ipython-input-269-5dd085f842ca>:13: SettingWithCopyWarning: \n",
            "A value is trying to be set on a copy of a slice from a DataFrame\n",
            "\n",
            "See the caveats in the documentation: https://pandas.pydata.org/pandas-docs/stable/user_guide/indexing.html#returning-a-view-versus-a-copy\n",
            "  df[\"Performance_PG\"][i] = float(df[\"Performance_PG\"][i][:n])\n"
          ]
        }
      ]
    },
    {
      "cell_type": "code",
      "source": [
        "#df"
      ],
      "metadata": {
        "id": "CP8tM2myT2ry"
      },
      "execution_count": 270,
      "outputs": []
    },
    {
      "cell_type": "code",
      "source": [
        "df[\"Degree\"].unique()"
      ],
      "metadata": {
        "colab": {
          "base_uri": "https://localhost:8080/"
        },
        "id": "Vn1skclQLfcu",
        "outputId": "6d674925-12f1-466b-c67d-cbfc9754adaf"
      },
      "execution_count": 271,
      "outputs": [
        {
          "output_type": "execute_result",
          "data": {
            "text/plain": [
              "array(['Bachelor of Vocation (B.Voc.)', 'B.Tech',\n",
              "       'Master of Science (M.S.)', 'Bachelor of Engineering (B.E)',\n",
              "       'BS in Data Science and Applications', 'PGP',\n",
              "       'Bachelor of Technology (B.Tech)', 'MBA',\n",
              "       'Bachelor of Commerce (B.Com)',\n",
              "       'Master of Computer Applications (MCA)',\n",
              "       'Post Graduate Diploma in Management (P.G.D.M.)',\n",
              "       'M.Sc. in Data Science', 'B.Tech (Hons.)',\n",
              "       'Master of Technology (M.Tech)', 'PG Diploma in Data Science',\n",
              "       'Integrated M.Sc.', 'Bachelor of Science (B.Sc)',\n",
              "       'Integrated B.Tech & M.Tech',\n",
              "       'Bachelor Of Science (B.Sc), Data Science', '0', 'BE',\n",
              "       'Bachelor of Computer Applications (BCA)',\n",
              "       'Master of Science (M.Sc)',\n",
              "       'B.E Computer Science and Engineering (Artificial Intelligence and machine Learning)',\n",
              "       'Post Graduate Programme (PGP)', 'Ms In Data Science', 'B.Sc',\n",
              "       'ITI Electrical Engineering', 'M.Sc (Information Technology)',\n",
              "       'Post Graduate Diploma', 'Bachelor of Arts (B.A.)',\n",
              "       'Integrated B.E & M.Sc', 'Advanced Certification In Data Science',\n",
              "       'Btech',\n",
              "       'Post Graduate Diploma In Computer Applications (P.G.D.C.A.)',\n",
              "       'Integrated B.E & MBA', 'Master of Science (M.Sc) (Tech)',\n",
              "       'Integrated MCA', 'Bachelor of Engineering (B.E) (Hons.)',\n",
              "       'Bachelor Of Mechanical Engineering',\n",
              "       'Post Graduate Diploma In Data Analytics And Machine Learning',\n",
              "       'Master of Data Science', 'Bachelor of Chemical Engineering',\n",
              "       'Master of Arts (M.A.)',\n",
              "       'Post Graduate Diploma in Human Resource Management (P.G.D.H.R.M.)',\n",
              "       'M.Sc', 'High School Student. I Want An Internship',\n",
              "       'Integrated B.Tech & M.Sc', 'Diploma In Pharmacy', 'Bsc',\n",
              "       'Bachelor of Computer Engineering',\n",
              "       'Bachelor of Artificial Intelligence',\n",
              "       'Bachelor of Computer Science (B.C.S.)', 'Integrated B.Tech',\n",
              "       'Certified Data Scientist',\n",
              "       'Bachelor of Computer Applications (BCA) (Hons.)',\n",
              "       'Automobile Engineering', 'Integrated B.E & M.Tech',\n",
              "       'Integrated M.Tech', 'B.Ed Special Education', 'MCA',\n",
              "       'Master of Engineering (M.E)', 'Bachelors of Data Science',\n",
              "       'B.tech Artificial Intelligence And Data Science', 'B.sc(chem)',\n",
              "       'Bachelor of Science (B.Sc) (Hons.)',\n",
              "       'Master in Artificial intelligence', 'B.Tech(CSE)',\n",
              "       'Bachelor Of Technology (B.Tech) CS', 'M.Sc. Management',\n",
              "       'Bachelor Of Engineering',\n",
              "       'Post Graduate Diploma in Big Data Analytics (PG-DBDA)',\n",
              "       'B.Tech (CSE) with specialization in Cyber Security ',\n",
              "       'Bachelors Of Software Engineering', 'M.Tech', 'Hsc', 'B.A',\n",
              "       'Bachelors Of Science',\n",
              "       'Bachelor of Business Administration (B.B.A.)',\n",
              "       'Graduate Certificate Program', 'Master Of Science',\n",
              "       'Bachelor of Commerce (B.Com) (Hons.)',\n",
              "       'Bachelor of Information Technology (B.I.T.)',\n",
              "       'Master of Computer Science (M.C.S.)',\n",
              "       'DIPLOMA IN CIVIL Engineering',\n",
              "       'Bachelor of Science (B.Sc) (Pass)', 'Business Engineering (BE)',\n",
              "       'Dual Degree', 'Msc.Data Analytics',\n",
              "       'Master of Information Technology (M.I.T.)',\n",
              "       'Executive PG Program (EPGP)', 'Post Graduation Diploma'],\n",
              "      dtype=object)"
            ]
          },
          "metadata": {},
          "execution_count": 271
        }
      ]
    },
    {
      "cell_type": "code",
      "source": [
        "for i in range(df.shape[0]):\n",
        "  if( \"M\" in df[\"Degree\"][i]):\n",
        "      df[\"Degree\"][i] = 2\n",
        "  elif(\"B\"in df[\"Degree\"][i]):\n",
        "      df[\"Degree\"][i] = 1\n",
        "  else:\n",
        "      df[\"Degree\"][i] = 0\n"
      ],
      "metadata": {
        "colab": {
          "base_uri": "https://localhost:8080/"
        },
        "id": "ckia_8IUQJkg",
        "outputId": "b0b10d7e-99a4-407e-a8b6-efdc39bff64e"
      },
      "execution_count": 272,
      "outputs": [
        {
          "output_type": "stream",
          "name": "stderr",
          "text": [
            "<ipython-input-272-c9a87f7205d0>:5: SettingWithCopyWarning: \n",
            "A value is trying to be set on a copy of a slice from a DataFrame\n",
            "\n",
            "See the caveats in the documentation: https://pandas.pydata.org/pandas-docs/stable/user_guide/indexing.html#returning-a-view-versus-a-copy\n",
            "  df[\"Degree\"][i] = 1\n",
            "<ipython-input-272-c9a87f7205d0>:3: SettingWithCopyWarning: \n",
            "A value is trying to be set on a copy of a slice from a DataFrame\n",
            "\n",
            "See the caveats in the documentation: https://pandas.pydata.org/pandas-docs/stable/user_guide/indexing.html#returning-a-view-versus-a-copy\n",
            "  df[\"Degree\"][i] = 2\n",
            "<ipython-input-272-c9a87f7205d0>:7: SettingWithCopyWarning: \n",
            "A value is trying to be set on a copy of a slice from a DataFrame\n",
            "\n",
            "See the caveats in the documentation: https://pandas.pydata.org/pandas-docs/stable/user_guide/indexing.html#returning-a-view-versus-a-copy\n",
            "  df[\"Degree\"][i] = 0\n"
          ]
        }
      ]
    },
    {
      "cell_type": "code",
      "source": [
        "#df"
      ],
      "metadata": {
        "id": "Vi3OEXWUWCRy"
      },
      "execution_count": 273,
      "outputs": []
    },
    {
      "cell_type": "code",
      "source": [
        "for i in range(df.shape[0]):\n",
        "  if(df['Performance_10'][i]>10):\n",
        "    df['Performance_10'][i] = df['Performance_10'][i]/10\n",
        "  if(df['Performance_12'][i]>10):\n",
        "    df['Performance_12'][i] = df['Performance_12'][i]/10\n",
        "  if(df['Performance_UG'][i]>10):\n",
        "    df['Performance_UG'][i] = df['Performance_UG'][i]/10\n",
        "  if(df['Performance_PG'][i]>10):\n",
        "    df['Performance_PG'][i] = df['Performance_PG'][i]/10\n"
      ],
      "metadata": {
        "colab": {
          "base_uri": "https://localhost:8080/"
        },
        "id": "y4-7UCAJWNiP",
        "outputId": "dd23e4ce-20cd-438d-d37b-be5fb1d0bcb9"
      },
      "execution_count": 274,
      "outputs": [
        {
          "output_type": "stream",
          "name": "stderr",
          "text": [
            "<ipython-input-274-47155a675b44>:5: SettingWithCopyWarning: \n",
            "A value is trying to be set on a copy of a slice from a DataFrame\n",
            "\n",
            "See the caveats in the documentation: https://pandas.pydata.org/pandas-docs/stable/user_guide/indexing.html#returning-a-view-versus-a-copy\n",
            "  df['Performance_12'][i] = df['Performance_12'][i]/10\n",
            "<ipython-input-274-47155a675b44>:7: SettingWithCopyWarning: \n",
            "A value is trying to be set on a copy of a slice from a DataFrame\n",
            "\n",
            "See the caveats in the documentation: https://pandas.pydata.org/pandas-docs/stable/user_guide/indexing.html#returning-a-view-versus-a-copy\n",
            "  df['Performance_UG'][i] = df['Performance_UG'][i]/10\n",
            "<ipython-input-274-47155a675b44>:3: SettingWithCopyWarning: \n",
            "A value is trying to be set on a copy of a slice from a DataFrame\n",
            "\n",
            "See the caveats in the documentation: https://pandas.pydata.org/pandas-docs/stable/user_guide/indexing.html#returning-a-view-versus-a-copy\n",
            "  df['Performance_10'][i] = df['Performance_10'][i]/10\n",
            "<ipython-input-274-47155a675b44>:9: SettingWithCopyWarning: \n",
            "A value is trying to be set on a copy of a slice from a DataFrame\n",
            "\n",
            "See the caveats in the documentation: https://pandas.pydata.org/pandas-docs/stable/user_guide/indexing.html#returning-a-view-versus-a-copy\n",
            "  df['Performance_PG'][i] = df['Performance_PG'][i]/10\n"
          ]
        }
      ]
    },
    {
      "cell_type": "code",
      "source": [
        "df"
      ],
      "metadata": {
        "colab": {
          "base_uri": "https://localhost:8080/",
          "height": 423
        },
        "id": "Ci3sRXh-ZgWv",
        "outputId": "ca6762bc-ab87-44ae-b36c-974a9115b7db"
      },
      "execution_count": 275,
      "outputs": [
        {
          "output_type": "execute_result",
          "data": {
            "text/plain": [
              "      Python  Machine_learning  NLP  Deep_learning availability Degree  \\\n",
              "0          1                 0    0              1            1      1   \n",
              "1          2                 0    0              0            1      1   \n",
              "2          2                 2    0              0            1      2   \n",
              "3          3                 2    2              0            1      1   \n",
              "4          2                 2    0              0            1      1   \n",
              "...      ...               ...  ...            ...          ...    ...   \n",
              "1131       2                 2    0              2            1      1   \n",
              "1132       3                 3    2              3            1      1   \n",
              "1133       3                 1    3              3            1      1   \n",
              "1134       2                 1    0              0            1      1   \n",
              "1135       2                 0    0              0            1      1   \n",
              "\n",
              "     Performance_PG Performance_UG Performance_12 Performance_10  \n",
              "0                 0            6.5              0              0  \n",
              "1                 0            8.9              0              0  \n",
              "2                 0              0              0              0  \n",
              "3                 0              0           8.56           10.0  \n",
              "4                 0            8.1           9.34           10.0  \n",
              "...             ...            ...            ...            ...  \n",
              "1131              0              0              0              0  \n",
              "1132              0              0              0              0  \n",
              "1133              0           8.77            9.4              0  \n",
              "1134              0            7.9            9.0              0  \n",
              "1135              0              0              0              0  \n",
              "\n",
              "[1136 rows x 10 columns]"
            ],
            "text/html": [
              "\n",
              "  <div id=\"df-561c0a79-f3e5-4c36-8cb0-d54b658b2d14\">\n",
              "    <div class=\"colab-df-container\">\n",
              "      <div>\n",
              "<style scoped>\n",
              "    .dataframe tbody tr th:only-of-type {\n",
              "        vertical-align: middle;\n",
              "    }\n",
              "\n",
              "    .dataframe tbody tr th {\n",
              "        vertical-align: top;\n",
              "    }\n",
              "\n",
              "    .dataframe thead th {\n",
              "        text-align: right;\n",
              "    }\n",
              "</style>\n",
              "<table border=\"1\" class=\"dataframe\">\n",
              "  <thead>\n",
              "    <tr style=\"text-align: right;\">\n",
              "      <th></th>\n",
              "      <th>Python</th>\n",
              "      <th>Machine_learning</th>\n",
              "      <th>NLP</th>\n",
              "      <th>Deep_learning</th>\n",
              "      <th>availability</th>\n",
              "      <th>Degree</th>\n",
              "      <th>Performance_PG</th>\n",
              "      <th>Performance_UG</th>\n",
              "      <th>Performance_12</th>\n",
              "      <th>Performance_10</th>\n",
              "    </tr>\n",
              "  </thead>\n",
              "  <tbody>\n",
              "    <tr>\n",
              "      <th>0</th>\n",
              "      <td>1</td>\n",
              "      <td>0</td>\n",
              "      <td>0</td>\n",
              "      <td>1</td>\n",
              "      <td>1</td>\n",
              "      <td>1</td>\n",
              "      <td>0</td>\n",
              "      <td>6.5</td>\n",
              "      <td>0</td>\n",
              "      <td>0</td>\n",
              "    </tr>\n",
              "    <tr>\n",
              "      <th>1</th>\n",
              "      <td>2</td>\n",
              "      <td>0</td>\n",
              "      <td>0</td>\n",
              "      <td>0</td>\n",
              "      <td>1</td>\n",
              "      <td>1</td>\n",
              "      <td>0</td>\n",
              "      <td>8.9</td>\n",
              "      <td>0</td>\n",
              "      <td>0</td>\n",
              "    </tr>\n",
              "    <tr>\n",
              "      <th>2</th>\n",
              "      <td>2</td>\n",
              "      <td>2</td>\n",
              "      <td>0</td>\n",
              "      <td>0</td>\n",
              "      <td>1</td>\n",
              "      <td>2</td>\n",
              "      <td>0</td>\n",
              "      <td>0</td>\n",
              "      <td>0</td>\n",
              "      <td>0</td>\n",
              "    </tr>\n",
              "    <tr>\n",
              "      <th>3</th>\n",
              "      <td>3</td>\n",
              "      <td>2</td>\n",
              "      <td>2</td>\n",
              "      <td>0</td>\n",
              "      <td>1</td>\n",
              "      <td>1</td>\n",
              "      <td>0</td>\n",
              "      <td>0</td>\n",
              "      <td>8.56</td>\n",
              "      <td>10.0</td>\n",
              "    </tr>\n",
              "    <tr>\n",
              "      <th>4</th>\n",
              "      <td>2</td>\n",
              "      <td>2</td>\n",
              "      <td>0</td>\n",
              "      <td>0</td>\n",
              "      <td>1</td>\n",
              "      <td>1</td>\n",
              "      <td>0</td>\n",
              "      <td>8.1</td>\n",
              "      <td>9.34</td>\n",
              "      <td>10.0</td>\n",
              "    </tr>\n",
              "    <tr>\n",
              "      <th>...</th>\n",
              "      <td>...</td>\n",
              "      <td>...</td>\n",
              "      <td>...</td>\n",
              "      <td>...</td>\n",
              "      <td>...</td>\n",
              "      <td>...</td>\n",
              "      <td>...</td>\n",
              "      <td>...</td>\n",
              "      <td>...</td>\n",
              "      <td>...</td>\n",
              "    </tr>\n",
              "    <tr>\n",
              "      <th>1131</th>\n",
              "      <td>2</td>\n",
              "      <td>2</td>\n",
              "      <td>0</td>\n",
              "      <td>2</td>\n",
              "      <td>1</td>\n",
              "      <td>1</td>\n",
              "      <td>0</td>\n",
              "      <td>0</td>\n",
              "      <td>0</td>\n",
              "      <td>0</td>\n",
              "    </tr>\n",
              "    <tr>\n",
              "      <th>1132</th>\n",
              "      <td>3</td>\n",
              "      <td>3</td>\n",
              "      <td>2</td>\n",
              "      <td>3</td>\n",
              "      <td>1</td>\n",
              "      <td>1</td>\n",
              "      <td>0</td>\n",
              "      <td>0</td>\n",
              "      <td>0</td>\n",
              "      <td>0</td>\n",
              "    </tr>\n",
              "    <tr>\n",
              "      <th>1133</th>\n",
              "      <td>3</td>\n",
              "      <td>1</td>\n",
              "      <td>3</td>\n",
              "      <td>3</td>\n",
              "      <td>1</td>\n",
              "      <td>1</td>\n",
              "      <td>0</td>\n",
              "      <td>8.77</td>\n",
              "      <td>9.4</td>\n",
              "      <td>0</td>\n",
              "    </tr>\n",
              "    <tr>\n",
              "      <th>1134</th>\n",
              "      <td>2</td>\n",
              "      <td>1</td>\n",
              "      <td>0</td>\n",
              "      <td>0</td>\n",
              "      <td>1</td>\n",
              "      <td>1</td>\n",
              "      <td>0</td>\n",
              "      <td>7.9</td>\n",
              "      <td>9.0</td>\n",
              "      <td>0</td>\n",
              "    </tr>\n",
              "    <tr>\n",
              "      <th>1135</th>\n",
              "      <td>2</td>\n",
              "      <td>0</td>\n",
              "      <td>0</td>\n",
              "      <td>0</td>\n",
              "      <td>1</td>\n",
              "      <td>1</td>\n",
              "      <td>0</td>\n",
              "      <td>0</td>\n",
              "      <td>0</td>\n",
              "      <td>0</td>\n",
              "    </tr>\n",
              "  </tbody>\n",
              "</table>\n",
              "<p>1136 rows × 10 columns</p>\n",
              "</div>\n",
              "      <button class=\"colab-df-convert\" onclick=\"convertToInteractive('df-561c0a79-f3e5-4c36-8cb0-d54b658b2d14')\"\n",
              "              title=\"Convert this dataframe to an interactive table.\"\n",
              "              style=\"display:none;\">\n",
              "        \n",
              "  <svg xmlns=\"http://www.w3.org/2000/svg\" height=\"24px\"viewBox=\"0 0 24 24\"\n",
              "       width=\"24px\">\n",
              "    <path d=\"M0 0h24v24H0V0z\" fill=\"none\"/>\n",
              "    <path d=\"M18.56 5.44l.94 2.06.94-2.06 2.06-.94-2.06-.94-.94-2.06-.94 2.06-2.06.94zm-11 1L8.5 8.5l.94-2.06 2.06-.94-2.06-.94L8.5 2.5l-.94 2.06-2.06.94zm10 10l.94 2.06.94-2.06 2.06-.94-2.06-.94-.94-2.06-.94 2.06-2.06.94z\"/><path d=\"M17.41 7.96l-1.37-1.37c-.4-.4-.92-.59-1.43-.59-.52 0-1.04.2-1.43.59L10.3 9.45l-7.72 7.72c-.78.78-.78 2.05 0 2.83L4 21.41c.39.39.9.59 1.41.59.51 0 1.02-.2 1.41-.59l7.78-7.78 2.81-2.81c.8-.78.8-2.07 0-2.86zM5.41 20L4 18.59l7.72-7.72 1.47 1.35L5.41 20z\"/>\n",
              "  </svg>\n",
              "      </button>\n",
              "      \n",
              "  <style>\n",
              "    .colab-df-container {\n",
              "      display:flex;\n",
              "      flex-wrap:wrap;\n",
              "      gap: 12px;\n",
              "    }\n",
              "\n",
              "    .colab-df-convert {\n",
              "      background-color: #E8F0FE;\n",
              "      border: none;\n",
              "      border-radius: 50%;\n",
              "      cursor: pointer;\n",
              "      display: none;\n",
              "      fill: #1967D2;\n",
              "      height: 32px;\n",
              "      padding: 0 0 0 0;\n",
              "      width: 32px;\n",
              "    }\n",
              "\n",
              "    .colab-df-convert:hover {\n",
              "      background-color: #E2EBFA;\n",
              "      box-shadow: 0px 1px 2px rgba(60, 64, 67, 0.3), 0px 1px 3px 1px rgba(60, 64, 67, 0.15);\n",
              "      fill: #174EA6;\n",
              "    }\n",
              "\n",
              "    [theme=dark] .colab-df-convert {\n",
              "      background-color: #3B4455;\n",
              "      fill: #D2E3FC;\n",
              "    }\n",
              "\n",
              "    [theme=dark] .colab-df-convert:hover {\n",
              "      background-color: #434B5C;\n",
              "      box-shadow: 0px 1px 3px 1px rgba(0, 0, 0, 0.15);\n",
              "      filter: drop-shadow(0px 1px 2px rgba(0, 0, 0, 0.3));\n",
              "      fill: #FFFFFF;\n",
              "    }\n",
              "  </style>\n",
              "\n",
              "      <script>\n",
              "        const buttonEl =\n",
              "          document.querySelector('#df-561c0a79-f3e5-4c36-8cb0-d54b658b2d14 button.colab-df-convert');\n",
              "        buttonEl.style.display =\n",
              "          google.colab.kernel.accessAllowed ? 'block' : 'none';\n",
              "\n",
              "        async function convertToInteractive(key) {\n",
              "          const element = document.querySelector('#df-561c0a79-f3e5-4c36-8cb0-d54b658b2d14');\n",
              "          const dataTable =\n",
              "            await google.colab.kernel.invokeFunction('convertToInteractive',\n",
              "                                                     [key], {});\n",
              "          if (!dataTable) return;\n",
              "\n",
              "          const docLinkHtml = 'Like what you see? Visit the ' +\n",
              "            '<a target=\"_blank\" href=https://colab.research.google.com/notebooks/data_table.ipynb>data table notebook</a>'\n",
              "            + ' to learn more about interactive tables.';\n",
              "          element.innerHTML = '';\n",
              "          dataTable['output_type'] = 'display_data';\n",
              "          await google.colab.output.renderOutput(dataTable, element);\n",
              "          const docLink = document.createElement('div');\n",
              "          docLink.innerHTML = docLinkHtml;\n",
              "          element.appendChild(docLink);\n",
              "        }\n",
              "      </script>\n",
              "    </div>\n",
              "  </div>\n",
              "  "
            ]
          },
          "metadata": {},
          "execution_count": 275
        }
      ]
    },
    {
      "cell_type": "markdown",
      "source": [
        "# Now to choose best candidates we need to rank all this applicants.  "
      ],
      "metadata": {
        "id": "9QPm3q3OdZO7"
      }
    },
    {
      "cell_type": "code",
      "source": [
        "#ranking"
      ],
      "metadata": {
        "id": "lAL-Ud0AdsOv"
      },
      "execution_count": 276,
      "outputs": []
    },
    {
      "cell_type": "code",
      "source": [
        "#assigning scores to the respective skills\n",
        "# to change the score please cahnge score on the shortlisted_interns() function.\n",
        "\n",
        "py = 5\n",
        "ML = 10\n",
        "NLP = 10\n",
        "DL = 10\n",
        "Deg = 5\n",
        "theta = np.array([py,ML,NLP,DL,Deg,1,1,1,1,1])\n"
      ],
      "metadata": {
        "id": "S1mV6jhpdwJ7"
      },
      "execution_count": 277,
      "outputs": []
    },
    {
      "cell_type": "code",
      "source": [
        "df.shape[0]"
      ],
      "metadata": {
        "colab": {
          "base_uri": "https://localhost:8080/"
        },
        "id": "UAnWJfWbiMSo",
        "outputId": "ac4ff956-4c61-4324-9ab3-698e5efc53a0"
      },
      "execution_count": 278,
      "outputs": [
        {
          "output_type": "execute_result",
          "data": {
            "text/plain": [
              "1136"
            ]
          },
          "metadata": {},
          "execution_count": 278
        }
      ]
    },
    {
      "cell_type": "code",
      "source": [],
      "metadata": {
        "id": "FT4Voyseybca"
      },
      "execution_count": 278,
      "outputs": []
    },
    {
      "cell_type": "code",
      "source": [
        "def intern_score(x, theta):\n",
        "  x = np.array(x)\n",
        "  return np.dot(x,theta.T)"
      ],
      "metadata": {
        "id": "cXnnkYFweY2J"
      },
      "execution_count": 279,
      "outputs": []
    },
    {
      "cell_type": "code",
      "source": [],
      "metadata": {
        "id": "m8jI-V19xoYM"
      },
      "execution_count": 279,
      "outputs": []
    },
    {
      "cell_type": "code",
      "source": [
        "def Ranking(X,theta):\n",
        "  intern_dict = {}\n",
        "  for i in range(X.shape[0]):\n",
        "    score = intern_score(X[i],theta)\n",
        "    intern_dict[i] = score\n",
        "  intern_dict = sorted(intern_dict.items(), key=lambda x:x[1], reverse=True)\n",
        "  intern_dict = dict(intern_dict)\n",
        "  return intern_dict"
      ],
      "metadata": {
        "id": "PkBeP4E9i5Js"
      },
      "execution_count": 280,
      "outputs": []
    },
    {
      "cell_type": "code",
      "source": [
        "#Ranking(df,theta)"
      ],
      "metadata": {
        "id": "ZsXZhiioxNpl"
      },
      "execution_count": 281,
      "outputs": []
    },
    {
      "cell_type": "code",
      "source": [
        "def Shortlisted_interns(needed_intern,X):\n",
        "  py = 5\n",
        "  ML = 10\n",
        "  NLP = 10\n",
        "  DL = 10\n",
        "  Deg = 5\n",
        "  theta = np.array([py,ML,NLP,DL,Deg,1,1,1,1,1])\n",
        "  X = np.array(X)\n",
        "  intern_dict= Ranking(X,theta)\n",
        "  inter_index =list(intern_dict.keys())\n",
        "  return inter_index[:needed_intern],intern_dict"
      ],
      "metadata": {
        "id": "tQ35AcpVjry7"
      },
      "execution_count": 300,
      "outputs": []
    },
    {
      "cell_type": "markdown",
      "source": [
        "# As no names are given we will idenntify interns by their index numbers...\n",
        "\n",
        "---\n",
        "\n",
        "---\n",
        "\n"
      ],
      "metadata": {
        "id": "PV-ieaU1qHWu"
      }
    },
    {
      "cell_type": "code",
      "source": [
        "no_of_needed_interns = int(input(\"enter the needed interns:\"))\n",
        "interns,score_dict = Shortlisted_interns(no_of_needed_interns,df)\n",
        "print(\"index of shortlisted interns are:\",interns)\n",
        "print(\"index\",\"   \",\" score\")\n",
        "for i in (interns):\n",
        "  print(i,\"   \",format(score_dict[i],\".2f\"))"
      ],
      "metadata": {
        "colab": {
          "base_uri": "https://localhost:8080/"
        },
        "id": "q7EJjeaIqMDI",
        "outputId": "f1f310b6-d31e-442f-b88c-1147a298b72e"
      },
      "execution_count": 304,
      "outputs": [
        {
          "output_type": "stream",
          "name": "stdout",
          "text": [
            "enter the needed interns:10\n",
            "index of shortlisted interns are: [246, 1073, 767, 862, 957, 1039, 422, 1000, 595, 640]\n",
            "index      score\n",
            "246     144.92\n",
            "1073     143.47\n",
            "767     137.30\n",
            "862     133.26\n",
            "957     129.50\n",
            "1039     129.16\n",
            "422     127.84\n",
            "1000     127.80\n",
            "595     125.93\n",
            "640     125.50\n"
          ]
        }
      ]
    },
    {
      "cell_type": "code",
      "source": [],
      "metadata": {
        "id": "MzbCMxwhq4R4"
      },
      "execution_count": 307,
      "outputs": []
    }
  ]
}